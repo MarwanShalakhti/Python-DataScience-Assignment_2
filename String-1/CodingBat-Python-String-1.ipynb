{
 "cells": [
  {
   "cell_type": "markdown",
   "metadata": {},
   "source": [
    "CodingBat-Python-String-1"
   ]
  },
  {
   "cell_type": "code",
   "execution_count": 1,
   "metadata": {},
   "outputs": [],
   "source": [
    "#hello_name Q1\n",
    "\n",
    "def hello_name(name):\n",
    "  return 'Hello '+name+'!'"
   ]
  },
  {
   "cell_type": "code",
   "execution_count": 2,
   "metadata": {},
   "outputs": [],
   "source": [
    "#first_half Q2\n",
    "\n",
    "def first_half(str):\n",
    "  return str[0:len(str)/2]"
   ]
  },
  {
   "cell_type": "code",
   "execution_count": 3,
   "metadata": {},
   "outputs": [],
   "source": [
    "#make_abba Q3\n",
    "\n",
    "def make_abba(a, b):\n",
    "  return a+b+b+a"
   ]
  },
  {
   "cell_type": "code",
   "execution_count": 6,
   "metadata": {},
   "outputs": [],
   "source": [
    "#extra_end Q4\n",
    "\n",
    "def extra_end(str):\n",
    "  return str[len(str)-2:len(str)]*3"
   ]
  },
  {
   "cell_type": "code",
   "execution_count": 7,
   "metadata": {},
   "outputs": [],
   "source": [
    "#without_end Q5\n",
    "\n",
    "def without_end(str):\n",
    "  return str[1:len(str)-1]"
   ]
  },
  {
   "cell_type": "code",
   "execution_count": 9,
   "metadata": {},
   "outputs": [],
   "source": [
    "#first_two Q6\n",
    "\n",
    "def first_two(str):\n",
    "  return str[0:2]"
   ]
  }
 ],
 "metadata": {
  "kernelspec": {
   "display_name": "Python 2",
   "language": "python",
   "name": "python2"
  },
  "language_info": {
   "codemirror_mode": {
    "name": "ipython",
    "version": 2
   },
   "file_extension": ".py",
   "mimetype": "text/x-python",
   "name": "python",
   "nbconvert_exporter": "python",
   "pygments_lexer": "ipython2",
   "version": "2.7.15"
  }
 },
 "nbformat": 4,
 "nbformat_minor": 2
}
