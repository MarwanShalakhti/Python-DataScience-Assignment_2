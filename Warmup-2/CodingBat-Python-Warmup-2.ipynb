{
 "cells": [
  {
   "cell_type": "markdown",
   "metadata": {},
   "source": [
    "CodingBat-Python-Warmup-2"
   ]
  },
  {
   "cell_type": "code",
   "execution_count": 1,
   "metadata": {},
   "outputs": [],
   "source": [
    "#string_times Q1\n",
    "\n",
    "def string_times(str, n):\n",
    "  return str*n"
   ]
  },
  {
   "cell_type": "code",
   "execution_count": 2,
   "metadata": {},
   "outputs": [],
   "source": [
    "#array_front9 Q2\n",
    "\n",
    "def array_front9(nums):\n",
    "  count=0\n",
    "  flag=False\n",
    "  for i in nums :\n",
    "    if(nums[count]==9 and count <4):\n",
    "      flag=True\n",
    "    count +=1  \n",
    "  if(flag):\n",
    "      return True\n",
    "  else:\n",
    "    return False  "
   ]
  },
  {
   "cell_type": "code",
   "execution_count": 3,
   "metadata": {},
   "outputs": [],
   "source": [
    "#front_times Q3\n",
    "\n",
    "def front_times(str, n):\n",
    "  if len(str)>=3:\n",
    "    return str[0:3]*n\n",
    "  else:\n",
    "    return str*n"
   ]
  },
  {
   "cell_type": "code",
   "execution_count": 4,
   "metadata": {},
   "outputs": [],
   "source": [
    "#array123 Q4\n",
    "\n",
    "def array123(nums):\n",
    "  for i in range (len(nums)-2):\n",
    "    if nums[i]==1 and nums[i+1]==2 and nums[i+2]==3 :\n",
    "      return True\n",
    "  return False    "
   ]
  },
  {
   "cell_type": "code",
   "execution_count": 5,
   "metadata": {},
   "outputs": [],
   "source": [
    "#string_bits Q5\n",
    "\n",
    "def string_bits(str):\n",
    "  return str[::2]\n",
    "\n"
   ]
  },
  {
   "cell_type": "code",
   "execution_count": 6,
   "metadata": {},
   "outputs": [],
   "source": [
    "#array_count9 Q6\n",
    "\n",
    "def array_count9(nums):\n",
    "  count =0\n",
    "  for i in nums:\n",
    "    if i==9:\n",
    "      count +=1\n",
    "  return count "
   ]
  }
 ],
 "metadata": {
  "kernelspec": {
   "display_name": "Python 2",
   "language": "python",
   "name": "python2"
  },
  "language_info": {
   "codemirror_mode": {
    "name": "ipython",
    "version": 2
   },
   "file_extension": ".py",
   "mimetype": "text/x-python",
   "name": "python",
   "nbconvert_exporter": "python",
   "pygments_lexer": "ipython2",
   "version": "2.7.15"
  }
 },
 "nbformat": 4,
 "nbformat_minor": 2
}
