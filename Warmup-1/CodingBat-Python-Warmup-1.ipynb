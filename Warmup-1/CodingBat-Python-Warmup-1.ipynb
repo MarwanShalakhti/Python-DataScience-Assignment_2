{
 "cells": [
  {
   "cell_type": "markdown",
   "metadata": {},
   "source": [
    "CodingBat-Python-Warmup-1"
   ]
  },
  {
   "cell_type": "code",
   "execution_count": 1,
   "metadata": {},
   "outputs": [],
   "source": [
    "#Sleep_in Q1\n",
    "\n",
    "def sleep_in(weekday, vacation):\n",
    "  if not weekday or  vacation:\n",
    "    return True\n",
    "  else:\n",
    "    return False\n"
   ]
  },
  {
   "cell_type": "code",
   "execution_count": 2,
   "metadata": {},
   "outputs": [],
   "source": [
    "#diff21 Q2\n",
    "\n",
    "def diff21(n):\n",
    "  if n<=21:\n",
    "    return abs (n-21)\n",
    "  else:\n",
    "    return (n-21)*2"
   ]
  },
  {
   "cell_type": "code",
   "execution_count": 3,
   "metadata": {},
   "outputs": [],
   "source": [
    "#near_hundred Q3\n",
    "\n",
    "def near_hundred(n):\n",
    "  if abs(n-100)<=10 or abs(n-200)<=10:\n",
    "    return True\n",
    "  else:\n",
    "      return False"
   ]
  },
  {
   "cell_type": "code",
   "execution_count": 4,
   "metadata": {},
   "outputs": [],
   "source": [
    "#pos_neg Q4\n",
    "\n",
    "def pos_neg(a, b, negative):\n",
    "  if ((a>=0 and b<0)or(a<0 and b>=0))and not( negative or False) :\n",
    "    return True\n",
    "  elif a<0 and b<0 and negative:\n",
    "    return True\n",
    "  else:\n",
    "    return False"
   ]
  },
  {
   "cell_type": "code",
   "execution_count": 5,
   "metadata": {},
   "outputs": [],
   "source": [
    "#sum_double Q5\n",
    "\n",
    "def sum_double(a, b):\n",
    "  if a==b:\n",
    "    return (a+b)*2\n",
    "  else:\n",
    "    return a+b"
   ]
  },
  {
   "cell_type": "code",
   "execution_count": 6,
   "metadata": {},
   "outputs": [],
   "source": [
    "#not_string Q6\n",
    "\n",
    "def not_string(str):\n",
    "  if str.find('not')==0:\n",
    "    return str\n",
    "  else:\n",
    "    return 'not '+str"
   ]
  }
 ],
 "metadata": {
  "kernelspec": {
   "display_name": "Python 2",
   "language": "python",
   "name": "python2"
  },
  "language_info": {
   "codemirror_mode": {
    "name": "ipython",
    "version": 2
   },
   "file_extension": ".py",
   "mimetype": "text/x-python",
   "name": "python",
   "nbconvert_exporter": "python",
   "pygments_lexer": "ipython2",
   "version": "2.7.15"
  }
 },
 "nbformat": 4,
 "nbformat_minor": 2
}
