{
 "cells": [
  {
   "cell_type": "markdown",
   "metadata": {},
   "source": [
    "CodingBat-Python-Logic-1"
   ]
  },
  {
   "cell_type": "code",
   "execution_count": 1,
   "metadata": {},
   "outputs": [],
   "source": [
    "#cigar_party Q1\n",
    "\n",
    "def cigar_party(cigars, is_weekend):\n",
    "  return (cigars>=40 and cigars<=60) or (is_weekend and cigars>60)"
   ]
  },
  {
   "cell_type": "code",
   "execution_count": 2,
   "metadata": {},
   "outputs": [],
   "source": [
    "#caught_speeding Q2\n",
    "\n",
    "def caught_speeding(speed, is_birthday):\n",
    "  if is_birthday:\n",
    "    if speed<=65:\n",
    "      return 0\n",
    "    elif speed>65 and speed<=85:\n",
    "      return 1\n",
    "    elif speed>85:\n",
    "      return 2\n",
    "  else:\n",
    "    if speed<=60:\n",
    "      return 0\n",
    "    elif speed>60 and speed<=80:\n",
    "      return 1\n",
    "    elif speed>80:\n",
    "      return 2"
   ]
  },
  {
   "cell_type": "code",
   "execution_count": 3,
   "metadata": {},
   "outputs": [],
   "source": [
    "#love6 Q3\n",
    "\n",
    "def love6(a, b):\n",
    "  if a+b==6 or abs(a-b)==6 or a==6 or b==6:\n",
    "    return True\n",
    "  else:\n",
    "    return False"
   ]
  },
  {
   "cell_type": "code",
   "execution_count": 4,
   "metadata": {},
   "outputs": [],
   "source": [
    "#sorta_sum Q4\n",
    "\n",
    "def sorta_sum(a, b):\n",
    "  sum=a+b\n",
    "  if sum>=10 and sum<=19:\n",
    "    return 20\n",
    "  return sum"
   ]
  },
  {
   "cell_type": "code",
   "execution_count": 5,
   "metadata": {},
   "outputs": [],
   "source": [
    "#in1to10 Q5\n",
    "\n",
    "def in1to10(n, outside_mode):\n",
    "   if outside_mode:\n",
    "     if n>=10 or n<=1:\n",
    "       return True\n",
    "     else:\n",
    "       return False\n",
    "   else:\n",
    "    if n>=1 and n<=10:\n",
    "      return True\n",
    "    else:\n",
    "      return False"
   ]
  },
  {
   "cell_type": "code",
   "execution_count": 6,
   "metadata": {},
   "outputs": [],
   "source": [
    "#squirrel_play Q6\n",
    "\n",
    "def squirrel_play(temp, is_summer):\n",
    "  return (temp>=60 and temp<=90) or (is_summer and temp<=100 and temp>=60)"
   ]
  }
 ],
 "metadata": {
  "kernelspec": {
   "display_name": "Python 2",
   "language": "python",
   "name": "python2"
  },
  "language_info": {
   "codemirror_mode": {
    "name": "ipython",
    "version": 2
   },
   "file_extension": ".py",
   "mimetype": "text/x-python",
   "name": "python",
   "nbconvert_exporter": "python",
   "pygments_lexer": "ipython2",
   "version": "2.7.15"
  }
 },
 "nbformat": 4,
 "nbformat_minor": 2
}
