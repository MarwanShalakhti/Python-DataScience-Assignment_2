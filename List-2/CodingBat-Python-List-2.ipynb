{
 "cells": [
  {
   "cell_type": "markdown",
   "metadata": {},
   "source": [
    "CodingBat-Python-List-2"
   ]
  },
  {
   "cell_type": "code",
   "execution_count": 1,
   "metadata": {},
   "outputs": [],
   "source": [
    "#count_evens Q1\n",
    "\n",
    "def count_evens(nums):\n",
    "  count=0\n",
    "  for i in nums:\n",
    "    if i%2==0:\n",
    "      count+=1\n",
    "  return count"
   ]
  },
  {
   "cell_type": "code",
   "execution_count": 2,
   "metadata": {},
   "outputs": [],
   "source": [
    "#sum13 Q2\n",
    "\n",
    "def sum13(nums):\n",
    "  sum=0\n",
    "  count=len(nums)\n",
    "  i=0\n",
    "  while i<count:\n",
    "    if nums[i]==13 :\n",
    "      i+=1\n",
    "    else:\n",
    "      sum +=nums[i]\n",
    "    i+=1\n",
    " \n",
    "  return sum"
   ]
  },
  {
   "cell_type": "code",
   "execution_count": 3,
   "metadata": {},
   "outputs": [],
   "source": [
    "#has22 Q3\n",
    "\n",
    "def has22(nums):\n",
    "  for i in range(len(nums)-1):\n",
    "    if nums[i]==nums[i+1] and nums[i]==2:\n",
    "      return True\n",
    "  return False    "
   ]
  }
 ],
 "metadata": {
  "kernelspec": {
   "display_name": "Python 2",
   "language": "python",
   "name": "python2"
  },
  "language_info": {
   "codemirror_mode": {
    "name": "ipython",
    "version": 2
   },
   "file_extension": ".py",
   "mimetype": "text/x-python",
   "name": "python",
   "nbconvert_exporter": "python",
   "pygments_lexer": "ipython2",
   "version": "2.7.15"
  }
 },
 "nbformat": 4,
 "nbformat_minor": 2
}
