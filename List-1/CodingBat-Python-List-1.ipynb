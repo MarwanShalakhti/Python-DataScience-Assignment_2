{
 "cells": [
  {
   "cell_type": "markdown",
   "metadata": {},
   "source": [
    "CodingBat-Python-List-1"
   ]
  },
  {
   "cell_type": "code",
   "execution_count": 1,
   "metadata": {},
   "outputs": [],
   "source": [
    "#first_last6 Q1\n",
    "\n",
    "def first_last6(nums):\n",
    "  return nums[len(nums)-1]==6 or nums[0]==6\n"
   ]
  },
  {
   "cell_type": "code",
   "execution_count": 2,
   "metadata": {},
   "outputs": [],
   "source": [
    "#common_end Q2\n",
    "\n",
    "def common_end(a, b):\n",
    "  return a[len(a)-1]==b[len(b)-1] or a[0]==b[0]"
   ]
  },
  {
   "cell_type": "code",
   "execution_count": 3,
   "metadata": {},
   "outputs": [],
   "source": [
    "#same_first_last Q3\n",
    "\n",
    "def same_first_last(nums):\n",
    "  return len(nums)>0 and nums[0]==nums[len(nums)-1]"
   ]
  },
  {
   "cell_type": "code",
   "execution_count": 4,
   "metadata": {},
   "outputs": [],
   "source": [
    "#sum3 Q4\n",
    "\n",
    "def sum3(nums):\n",
    "  sum=0 \n",
    "  for i in nums:\n",
    "    sum += i\n",
    "  return sum"
   ]
  },
  {
   "cell_type": "code",
   "execution_count": 5,
   "metadata": {},
   "outputs": [],
   "source": [
    "#make_pi Q5\n",
    "\n",
    "def make_pi():\n",
    "  return [3,1,4]\n"
   ]
  },
  {
   "cell_type": "code",
   "execution_count": 6,
   "metadata": {},
   "outputs": [],
   "source": [
    "#rotate_left3 Q6\n",
    "\n",
    "def rotate_left3(nums):\n",
    "  return [nums[1],nums[2],nums[0]] "
   ]
  }
 ],
 "metadata": {
  "kernelspec": {
   "display_name": "Python 2",
   "language": "python",
   "name": "python2"
  },
  "language_info": {
   "codemirror_mode": {
    "name": "ipython",
    "version": 2
   },
   "file_extension": ".py",
   "mimetype": "text/x-python",
   "name": "python",
   "nbconvert_exporter": "python",
   "pygments_lexer": "ipython2",
   "version": "2.7.15"
  }
 },
 "nbformat": 4,
 "nbformat_minor": 2
}
