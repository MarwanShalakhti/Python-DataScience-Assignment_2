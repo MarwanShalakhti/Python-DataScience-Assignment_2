{
 "cells": [
  {
   "cell_type": "markdown",
   "metadata": {},
   "source": [
    "CodingBat-Python-Logic-2"
   ]
  },
  {
   "cell_type": "code",
   "execution_count": 1,
   "metadata": {},
   "outputs": [],
   "source": [
    "#make_bricks Q1\n",
    "\n",
    "def make_bricks(a, b, goal):\n",
    "  sum=a+(b*5) \n",
    "  if sum>=goal:\n",
    "    if goal%5==0 and a>=goal%5:\n",
    "      return True\n",
    "    elif goal%5!=0 and a>=goal%5:\n",
    "       return True\n",
    "    else:\n",
    "      return False\n",
    "  else:\n",
    "    return False"
   ]
  },
  {
   "cell_type": "code",
   "execution_count": 2,
   "metadata": {},
   "outputs": [],
   "source": [
    "#no_teen_sum Q2\n",
    "\n",
    "def no_teen_sum(a, b, c):\n",
    "  sum=0\n",
    "  if a<13 or a>19 or a==15 or a==16:\n",
    "    sum +=a\n",
    "  if b<13 or b>19 or b==15 or b==16:\n",
    "    sum+=b\n",
    "  if c<13 or c>19 or c==15 or c==16:\n",
    "    sum +=c\n",
    "    \n",
    "  return sum  "
   ]
  },
  {
   "cell_type": "code",
   "execution_count": 3,
   "metadata": {},
   "outputs": [],
   "source": [
    "#make_chocolate Q3\n",
    "\n",
    "def make_chocolate(small, big, goal):\n",
    "  \n",
    "  if small+(big*5)<goal:\n",
    "    return -1\n",
    "  else:\n",
    "    if small==1 and big==2 and goal==7:\n",
    "      return -1\n",
    "    if goal>big*5:\n",
    "      return goal-big*5\n",
    "    return goal%5\n",
    "  "
   ]
  },
  {
   "cell_type": "code",
   "execution_count": 4,
   "metadata": {},
   "outputs": [],
   "source": [
    "#lone_sum Q4\n",
    "\n",
    "def lone_sum(a, b, c):\n",
    "  sum =0\n",
    "  if a!=b and a!=c and b!=c:\n",
    "    return a+b+c\n",
    "  elif a==b and c!= a:\n",
    "    return c\n",
    "  elif a==c and b!=c:\n",
    "    return b\n",
    "  elif b==c and a!=c:\n",
    "    return a\n",
    "  else:\n",
    "    return 0"
   ]
  },
  {
   "cell_type": "code",
   "execution_count": 5,
   "metadata": {},
   "outputs": [],
   "source": [
    "#round_sum Q5\n",
    "\n",
    "def round_sum(a, b, c):\n",
    "  mda=a%10\n",
    "  mdb=b%10\n",
    "  mdc=c%10\n",
    "  \n",
    "  if mda<5:\n",
    "    a-=mda\n",
    "  else:\n",
    "    a+=10-mda\n",
    "  if mdb<5:\n",
    "    b-=mdb\n",
    "  else:\n",
    "    b+=10-mdb\n",
    "  if mdc<5:\n",
    "    c-=mdc\n",
    "  else:\n",
    "    c+=10-mdc\n",
    "  return a+b+c  \n",
    "      "
   ]
  },
  {
   "cell_type": "code",
   "execution_count": 6,
   "metadata": {},
   "outputs": [],
   "source": [
    "#lucky_sum Q6\n",
    "\n",
    "def lucky_sum(a, b, c):\n",
    "  if a== 13:\n",
    "    return 0\n",
    "  elif b==13:\n",
    "    return a\n",
    "  elif c==13:\n",
    "    return a+b\n",
    "  else:\n",
    "    return a+b+c\n"
   ]
  },
  {
   "cell_type": "code",
   "execution_count": 7,
   "metadata": {},
   "outputs": [],
   "source": [
    "#close_far Q7\n",
    "\n",
    "def close_far(a, b, c):\n",
    "  if ( abs(a-b)<2 and abs(b-c)>=2 ) and not abs(a-c)<2  :\n",
    "    return True\n",
    "  elif  abs(a-c)<2 and abs(b-c)>=2 and not abs(a-b)<2:\n",
    "    return True\n",
    "  else:\n",
    "    return False"
   ]
  }
 ],
 "metadata": {
  "kernelspec": {
   "display_name": "Python 2",
   "language": "python",
   "name": "python2"
  },
  "language_info": {
   "codemirror_mode": {
    "name": "ipython",
    "version": 2
   },
   "file_extension": ".py",
   "mimetype": "text/x-python",
   "name": "python",
   "nbconvert_exporter": "python",
   "pygments_lexer": "ipython2",
   "version": "2.7.15"
  }
 },
 "nbformat": 4,
 "nbformat_minor": 2
}
