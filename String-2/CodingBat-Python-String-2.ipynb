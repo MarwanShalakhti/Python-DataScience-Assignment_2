{
 "cells": [
  {
   "cell_type": "markdown",
   "metadata": {},
   "source": [
    "CodingBat-Python-String-2"
   ]
  },
  {
   "cell_type": "code",
   "execution_count": 1,
   "metadata": {},
   "outputs": [],
   "source": [
    "#double_char Q1\n",
    "\n",
    "def double_char(str):\n",
    "  s=''\n",
    "  for i in str:\n",
    "    s+=i*2\n",
    "  return s"
   ]
  },
  {
   "cell_type": "code",
   "execution_count": 2,
   "metadata": {},
   "outputs": [],
   "source": [
    "#count_hi Q2\n",
    "\n",
    "def count_hi(str):\n",
    "  count =0\n",
    "  for i in range(len(str)-1):\n",
    "    if str[i]+str[i+1]=='hi':\n",
    "      count +=1\n",
    "  return count"
   ]
  },
  {
   "cell_type": "code",
   "execution_count": 3,
   "metadata": {},
   "outputs": [],
   "source": [
    "#cat_dog Q3\n",
    "\n",
    "def cat_dog(str):\n",
    "  flaga=False\n",
    "  flagb=False\n",
    "  ca=0\n",
    "  cb=0\n",
    "  if len(str)<3:\n",
    "    return True\n",
    "    \n",
    "  for i in range(len(str)-2):\n",
    "    s=str[i]+str[i+1]+str[i+2]\n",
    "    if s=='dog':\n",
    "      flaga=True\n",
    "      ca+=1\n",
    "    elif s=='cat':\n",
    "      flagb= True\n",
    "      cb+=1\n",
    "    \n",
    "    \n",
    "  if (flaga and flagb) and (ca==cb):\n",
    "    return True\n",
    "  return False    \n"
   ]
  }
 ],
 "metadata": {
  "kernelspec": {
   "display_name": "Python 2",
   "language": "python",
   "name": "python2"
  },
  "language_info": {
   "codemirror_mode": {
    "name": "ipython",
    "version": 2
   },
   "file_extension": ".py",
   "mimetype": "text/x-python",
   "name": "python",
   "nbconvert_exporter": "python",
   "pygments_lexer": "ipython2",
   "version": "2.7.15"
  }
 },
 "nbformat": 4,
 "nbformat_minor": 2
}
